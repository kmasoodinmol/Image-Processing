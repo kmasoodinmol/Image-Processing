{
 "cells": [
  {
   "cell_type": "code",
   "execution_count": 26,
   "id": "30ccbe36-e2d7-435b-ae3f-adc64348eaa6",
   "metadata": {},
   "outputs": [],
   "source": [
    "import cv2\n",
    "import numpy as np"
   ]
  },
  {
   "cell_type": "code",
   "execution_count": 46,
   "id": "88b6a756-6be8-4cc4-8090-b82ad0b78e75",
   "metadata": {},
   "outputs": [
    {
     "data": {
      "text/plain": [
       "-1"
      ]
     },
     "execution_count": 46,
     "metadata": {},
     "output_type": "execute_result"
    }
   ],
   "source": [
    "img = cv2.imread(\"planes/lenna.png\")\n",
    "\n",
    "img = cv2.resize(img,(100,100))\n",
    "img = cv2.resize(img, (300, 300))\n",
    "\n",
    "img_linear = cv2.resize(img, None, fx=5.5, fy=5.5, interpolation = cv2.INTER_LINEAR)\n",
    "img_cubic = cv2.resize(img, None, fx=5.5, fy=5.5, interpolation = cv2.INTER_CUBIC)\n",
    "\n",
    "cv2.imshow(\"Lena Image\", img_linear);\n",
    "cv2.waitKey()"
   ]
  },
  {
   "cell_type": "code",
   "execution_count": null,
   "id": "877e85b1-cee6-42d8-8dbf-7151903c07ab",
   "metadata": {},
   "outputs": [],
   "source": []
  }
 ],
 "metadata": {
  "kernelspec": {
   "display_name": "Python 3 (ipykernel)",
   "language": "python",
   "name": "python3"
  },
  "language_info": {
   "codemirror_mode": {
    "name": "ipython",
    "version": 3
   },
   "file_extension": ".py",
   "mimetype": "text/x-python",
   "name": "python",
   "nbconvert_exporter": "python",
   "pygments_lexer": "ipython3",
   "version": "3.12.2"
  }
 },
 "nbformat": 4,
 "nbformat_minor": 5
}
